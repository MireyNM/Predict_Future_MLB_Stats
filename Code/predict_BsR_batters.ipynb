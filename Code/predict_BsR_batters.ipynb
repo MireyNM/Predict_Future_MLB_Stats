{
 "cells": [
  {
   "cell_type": "markdown",
   "id": "97fabf5c",
   "metadata": {},
   "source": [
    "# Import libraries"
   ]
  },
  {
   "cell_type": "code",
   "execution_count": 1,
   "id": "fe8688c3",
   "metadata": {},
   "outputs": [],
   "source": [
    "import os\n",
    "import pandas as pd\n",
    "import numpy as np"
   ]
  },
  {
   "cell_type": "code",
   "execution_count": 2,
   "id": "93691410",
   "metadata": {},
   "outputs": [],
   "source": [
    "from pybaseball import batting_stats"
   ]
  },
  {
   "cell_type": "code",
   "execution_count": 3,
   "id": "1738f564",
   "metadata": {},
   "outputs": [
    {
     "data": {
      "text/html": [
       "<div>\n",
       "<style scoped>\n",
       "    .dataframe tbody tr th:only-of-type {\n",
       "        vertical-align: middle;\n",
       "    }\n",
       "\n",
       "    .dataframe tbody tr th {\n",
       "        vertical-align: top;\n",
       "    }\n",
       "\n",
       "    .dataframe thead th {\n",
       "        text-align: right;\n",
       "    }\n",
       "</style>\n",
       "<table border=\"1\" class=\"dataframe\">\n",
       "  <thead>\n",
       "    <tr style=\"text-align: right;\">\n",
       "      <th></th>\n",
       "      <th>IDfg</th>\n",
       "      <th>Season</th>\n",
       "      <th>Name</th>\n",
       "      <th>Team</th>\n",
       "      <th>Age</th>\n",
       "      <th>G</th>\n",
       "      <th>AB</th>\n",
       "      <th>PA</th>\n",
       "      <th>H</th>\n",
       "      <th>1B</th>\n",
       "      <th>...</th>\n",
       "      <th>maxEV</th>\n",
       "      <th>HardHit</th>\n",
       "      <th>HardHit%</th>\n",
       "      <th>Events</th>\n",
       "      <th>CStr%</th>\n",
       "      <th>CSW%</th>\n",
       "      <th>xBA</th>\n",
       "      <th>xSLG</th>\n",
       "      <th>xwOBA</th>\n",
       "      <th>L-WAR</th>\n",
       "    </tr>\n",
       "  </thead>\n",
       "  <tbody>\n",
       "    <tr>\n",
       "      <th>2</th>\n",
       "      <td>15640</td>\n",
       "      <td>2022</td>\n",
       "      <td>Aaron Judge</td>\n",
       "      <td>NYY</td>\n",
       "      <td>30</td>\n",
       "      <td>157</td>\n",
       "      <td>570</td>\n",
       "      <td>696</td>\n",
       "      <td>177</td>\n",
       "      <td>87</td>\n",
       "      <td>...</td>\n",
       "      <td>118.4</td>\n",
       "      <td>246</td>\n",
       "      <td>0.609</td>\n",
       "      <td>404</td>\n",
       "      <td>0.169</td>\n",
       "      <td>0.287</td>\n",
       "      <td>NaN</td>\n",
       "      <td>NaN</td>\n",
       "      <td>NaN</td>\n",
       "      <td>11.2</td>\n",
       "    </tr>\n",
       "    <tr>\n",
       "      <th>6</th>\n",
       "      <td>13611</td>\n",
       "      <td>2018</td>\n",
       "      <td>Mookie Betts</td>\n",
       "      <td>BOS</td>\n",
       "      <td>25</td>\n",
       "      <td>136</td>\n",
       "      <td>520</td>\n",
       "      <td>614</td>\n",
       "      <td>180</td>\n",
       "      <td>96</td>\n",
       "      <td>...</td>\n",
       "      <td>110.6</td>\n",
       "      <td>217</td>\n",
       "      <td>0.500</td>\n",
       "      <td>434</td>\n",
       "      <td>0.220</td>\n",
       "      <td>0.270</td>\n",
       "      <td>NaN</td>\n",
       "      <td>NaN</td>\n",
       "      <td>NaN</td>\n",
       "      <td>10.4</td>\n",
       "    </tr>\n",
       "    <tr>\n",
       "      <th>46</th>\n",
       "      <td>10155</td>\n",
       "      <td>2013</td>\n",
       "      <td>Mike Trout</td>\n",
       "      <td>LAA</td>\n",
       "      <td>21</td>\n",
       "      <td>157</td>\n",
       "      <td>589</td>\n",
       "      <td>716</td>\n",
       "      <td>190</td>\n",
       "      <td>115</td>\n",
       "      <td>...</td>\n",
       "      <td>NaN</td>\n",
       "      <td>0</td>\n",
       "      <td>NaN</td>\n",
       "      <td>0</td>\n",
       "      <td>0.200</td>\n",
       "      <td>0.266</td>\n",
       "      <td>NaN</td>\n",
       "      <td>NaN</td>\n",
       "      <td>NaN</td>\n",
       "      <td>10.2</td>\n",
       "    </tr>\n",
       "    <tr>\n",
       "      <th>104</th>\n",
       "      <td>10155</td>\n",
       "      <td>2012</td>\n",
       "      <td>Mike Trout</td>\n",
       "      <td>LAA</td>\n",
       "      <td>20</td>\n",
       "      <td>139</td>\n",
       "      <td>559</td>\n",
       "      <td>639</td>\n",
       "      <td>182</td>\n",
       "      <td>117</td>\n",
       "      <td>...</td>\n",
       "      <td>NaN</td>\n",
       "      <td>0</td>\n",
       "      <td>NaN</td>\n",
       "      <td>0</td>\n",
       "      <td>0.221</td>\n",
       "      <td>0.293</td>\n",
       "      <td>NaN</td>\n",
       "      <td>NaN</td>\n",
       "      <td>NaN</td>\n",
       "      <td>10.1</td>\n",
       "    </tr>\n",
       "    <tr>\n",
       "      <th>119</th>\n",
       "      <td>9166</td>\n",
       "      <td>2012</td>\n",
       "      <td>Buster Posey</td>\n",
       "      <td>SFG</td>\n",
       "      <td>25</td>\n",
       "      <td>148</td>\n",
       "      <td>530</td>\n",
       "      <td>610</td>\n",
       "      <td>178</td>\n",
       "      <td>114</td>\n",
       "      <td>...</td>\n",
       "      <td>NaN</td>\n",
       "      <td>0</td>\n",
       "      <td>NaN</td>\n",
       "      <td>0</td>\n",
       "      <td>0.190</td>\n",
       "      <td>0.251</td>\n",
       "      <td>NaN</td>\n",
       "      <td>NaN</td>\n",
       "      <td>NaN</td>\n",
       "      <td>10.1</td>\n",
       "    </tr>\n",
       "    <tr>\n",
       "      <th>...</th>\n",
       "      <td>...</td>\n",
       "      <td>...</td>\n",
       "      <td>...</td>\n",
       "      <td>...</td>\n",
       "      <td>...</td>\n",
       "      <td>...</td>\n",
       "      <td>...</td>\n",
       "      <td>...</td>\n",
       "      <td>...</td>\n",
       "      <td>...</td>\n",
       "      <td>...</td>\n",
       "      <td>...</td>\n",
       "      <td>...</td>\n",
       "      <td>...</td>\n",
       "      <td>...</td>\n",
       "      <td>...</td>\n",
       "      <td>...</td>\n",
       "      <td>...</td>\n",
       "      <td>...</td>\n",
       "      <td>...</td>\n",
       "      <td>...</td>\n",
       "    </tr>\n",
       "    <tr>\n",
       "      <th>5198</th>\n",
       "      <td>1698</td>\n",
       "      <td>2010</td>\n",
       "      <td>Gerald Laird</td>\n",
       "      <td>DET</td>\n",
       "      <td>30</td>\n",
       "      <td>89</td>\n",
       "      <td>270</td>\n",
       "      <td>299</td>\n",
       "      <td>56</td>\n",
       "      <td>40</td>\n",
       "      <td>...</td>\n",
       "      <td>NaN</td>\n",
       "      <td>0</td>\n",
       "      <td>NaN</td>\n",
       "      <td>0</td>\n",
       "      <td>0.166</td>\n",
       "      <td>0.252</td>\n",
       "      <td>NaN</td>\n",
       "      <td>NaN</td>\n",
       "      <td>NaN</td>\n",
       "      <td>-2.4</td>\n",
       "    </tr>\n",
       "    <tr>\n",
       "      <th>5368</th>\n",
       "      <td>9362</td>\n",
       "      <td>2010</td>\n",
       "      <td>Adam Moore</td>\n",
       "      <td>SEA</td>\n",
       "      <td>26</td>\n",
       "      <td>60</td>\n",
       "      <td>205</td>\n",
       "      <td>218</td>\n",
       "      <td>40</td>\n",
       "      <td>30</td>\n",
       "      <td>...</td>\n",
       "      <td>NaN</td>\n",
       "      <td>0</td>\n",
       "      <td>NaN</td>\n",
       "      <td>0</td>\n",
       "      <td>0.181</td>\n",
       "      <td>0.325</td>\n",
       "      <td>NaN</td>\n",
       "      <td>NaN</td>\n",
       "      <td>NaN</td>\n",
       "      <td>-2.4</td>\n",
       "    </tr>\n",
       "    <tr>\n",
       "      <th>5330</th>\n",
       "      <td>9272</td>\n",
       "      <td>2018</td>\n",
       "      <td>Chris Davis</td>\n",
       "      <td>BAL</td>\n",
       "      <td>32</td>\n",
       "      <td>128</td>\n",
       "      <td>470</td>\n",
       "      <td>522</td>\n",
       "      <td>79</td>\n",
       "      <td>51</td>\n",
       "      <td>...</td>\n",
       "      <td>111.8</td>\n",
       "      <td>113</td>\n",
       "      <td>0.401</td>\n",
       "      <td>282</td>\n",
       "      <td>0.174</td>\n",
       "      <td>0.316</td>\n",
       "      <td>NaN</td>\n",
       "      <td>NaN</td>\n",
       "      <td>NaN</td>\n",
       "      <td>-3.1</td>\n",
       "    </tr>\n",
       "    <tr>\n",
       "      <th>5027</th>\n",
       "      <td>319</td>\n",
       "      <td>2011</td>\n",
       "      <td>Adam Dunn</td>\n",
       "      <td>CHW</td>\n",
       "      <td>31</td>\n",
       "      <td>122</td>\n",
       "      <td>415</td>\n",
       "      <td>496</td>\n",
       "      <td>66</td>\n",
       "      <td>39</td>\n",
       "      <td>...</td>\n",
       "      <td>NaN</td>\n",
       "      <td>0</td>\n",
       "      <td>NaN</td>\n",
       "      <td>0</td>\n",
       "      <td>0.169</td>\n",
       "      <td>0.295</td>\n",
       "      <td>NaN</td>\n",
       "      <td>NaN</td>\n",
       "      <td>NaN</td>\n",
       "      <td>-2.9</td>\n",
       "    </tr>\n",
       "    <tr>\n",
       "      <th>666</th>\n",
       "      <td>2113</td>\n",
       "      <td>2008</td>\n",
       "      <td>Ryan Doumit</td>\n",
       "      <td>PIT</td>\n",
       "      <td>27</td>\n",
       "      <td>116</td>\n",
       "      <td>431</td>\n",
       "      <td>465</td>\n",
       "      <td>137</td>\n",
       "      <td>88</td>\n",
       "      <td>...</td>\n",
       "      <td>NaN</td>\n",
       "      <td>0</td>\n",
       "      <td>NaN</td>\n",
       "      <td>0</td>\n",
       "      <td>0.144</td>\n",
       "      <td>0.231</td>\n",
       "      <td>NaN</td>\n",
       "      <td>NaN</td>\n",
       "      <td>NaN</td>\n",
       "      <td>-3.4</td>\n",
       "    </tr>\n",
       "  </tbody>\n",
       "</table>\n",
       "<p>5397 rows × 320 columns</p>\n",
       "</div>"
      ],
      "text/plain": [
       "       IDfg  Season          Name Team  Age    G   AB   PA    H   1B  ...  \\\n",
       "2     15640    2022   Aaron Judge  NYY   30  157  570  696  177   87  ...   \n",
       "6     13611    2018  Mookie Betts  BOS   25  136  520  614  180   96  ...   \n",
       "46    10155    2013    Mike Trout  LAA   21  157  589  716  190  115  ...   \n",
       "104   10155    2012    Mike Trout  LAA   20  139  559  639  182  117  ...   \n",
       "119    9166    2012  Buster Posey  SFG   25  148  530  610  178  114  ...   \n",
       "...     ...     ...           ...  ...  ...  ...  ...  ...  ...  ...  ...   \n",
       "5198   1698    2010  Gerald Laird  DET   30   89  270  299   56   40  ...   \n",
       "5368   9362    2010    Adam Moore  SEA   26   60  205  218   40   30  ...   \n",
       "5330   9272    2018   Chris Davis  BAL   32  128  470  522   79   51  ...   \n",
       "5027    319    2011     Adam Dunn  CHW   31  122  415  496   66   39  ...   \n",
       "666    2113    2008   Ryan Doumit  PIT   27  116  431  465  137   88  ...   \n",
       "\n",
       "      maxEV  HardHit  HardHit%  Events  CStr%   CSW%  xBA  xSLG  xwOBA  L-WAR  \n",
       "2     118.4      246     0.609     404  0.169  0.287  NaN   NaN    NaN   11.2  \n",
       "6     110.6      217     0.500     434  0.220  0.270  NaN   NaN    NaN   10.4  \n",
       "46      NaN        0       NaN       0  0.200  0.266  NaN   NaN    NaN   10.2  \n",
       "104     NaN        0       NaN       0  0.221  0.293  NaN   NaN    NaN   10.1  \n",
       "119     NaN        0       NaN       0  0.190  0.251  NaN   NaN    NaN   10.1  \n",
       "...     ...      ...       ...     ...    ...    ...  ...   ...    ...    ...  \n",
       "5198    NaN        0       NaN       0  0.166  0.252  NaN   NaN    NaN   -2.4  \n",
       "5368    NaN        0       NaN       0  0.181  0.325  NaN   NaN    NaN   -2.4  \n",
       "5330  111.8      113     0.401     282  0.174  0.316  NaN   NaN    NaN   -3.1  \n",
       "5027    NaN        0       NaN       0  0.169  0.295  NaN   NaN    NaN   -2.9  \n",
       "666     NaN        0       NaN       0  0.144  0.231  NaN   NaN    NaN   -3.4  \n",
       "\n",
       "[5397 rows x 320 columns]"
      ]
     },
     "execution_count": 3,
     "metadata": {},
     "output_type": "execute_result"
    }
   ],
   "source": [
    "# Batting Stats , qual is the number of players appearences \n",
    "batting = batting_stats(2007,2022, qual=200)\n",
    "batting"
   ]
  },
  {
   "cell_type": "code",
   "execution_count": 4,
   "id": "944252b9",
   "metadata": {},
   "outputs": [
    {
     "ename": "OSError",
     "evalue": "Cannot save file into a non-existent directory: '../Data/Raw_Data'",
     "output_type": "error",
     "traceback": [
      "\u001b[0;31m---------------------------------------------------------------------------\u001b[0m",
      "\u001b[0;31mOSError\u001b[0m                                   Traceback (most recent call last)",
      "\u001b[0;32m/var/folders/hy/4q0zsdgd3tvg2clt2qgl_5yr0000gn/T/ipykernel_28493/4092789969.py\u001b[0m in \u001b[0;36m<module>\u001b[0;34m\u001b[0m\n\u001b[1;32m      1\u001b[0m \u001b[0;31m# Export DataFrame to csv\u001b[0m\u001b[0;34m\u001b[0m\u001b[0;34m\u001b[0m\u001b[0m\n\u001b[0;32m----> 2\u001b[0;31m \u001b[0mbatting\u001b[0m\u001b[0;34m.\u001b[0m\u001b[0mto_csv\u001b[0m\u001b[0;34m(\u001b[0m\u001b[0;34m'../Data/Raw_Data/batting.csv'\u001b[0m\u001b[0;34m,\u001b[0m \u001b[0mindex\u001b[0m\u001b[0;34m=\u001b[0m\u001b[0;32mFalse\u001b[0m\u001b[0;34m)\u001b[0m\u001b[0;34m\u001b[0m\u001b[0;34m\u001b[0m\u001b[0m\n\u001b[0m",
      "\u001b[0;32m~/opt/anaconda3/lib/python3.9/site-packages/pandas/core/generic.py\u001b[0m in \u001b[0;36mto_csv\u001b[0;34m(self, path_or_buf, sep, na_rep, float_format, columns, header, index, index_label, mode, encoding, compression, quoting, quotechar, line_terminator, chunksize, date_format, doublequote, escapechar, decimal, errors, storage_options)\u001b[0m\n\u001b[1;32m   3549\u001b[0m         )\n\u001b[1;32m   3550\u001b[0m \u001b[0;34m\u001b[0m\u001b[0m\n\u001b[0;32m-> 3551\u001b[0;31m         return DataFrameRenderer(formatter).to_csv(\n\u001b[0m\u001b[1;32m   3552\u001b[0m             \u001b[0mpath_or_buf\u001b[0m\u001b[0;34m,\u001b[0m\u001b[0;34m\u001b[0m\u001b[0;34m\u001b[0m\u001b[0m\n\u001b[1;32m   3553\u001b[0m             \u001b[0mline_terminator\u001b[0m\u001b[0;34m=\u001b[0m\u001b[0mline_terminator\u001b[0m\u001b[0;34m,\u001b[0m\u001b[0;34m\u001b[0m\u001b[0;34m\u001b[0m\u001b[0m\n",
      "\u001b[0;32m~/opt/anaconda3/lib/python3.9/site-packages/pandas/io/formats/format.py\u001b[0m in \u001b[0;36mto_csv\u001b[0;34m(self, path_or_buf, encoding, sep, columns, index_label, mode, compression, quoting, quotechar, line_terminator, chunksize, date_format, doublequote, escapechar, errors, storage_options)\u001b[0m\n\u001b[1;32m   1178\u001b[0m             \u001b[0mformatter\u001b[0m\u001b[0;34m=\u001b[0m\u001b[0mself\u001b[0m\u001b[0;34m.\u001b[0m\u001b[0mfmt\u001b[0m\u001b[0;34m,\u001b[0m\u001b[0;34m\u001b[0m\u001b[0;34m\u001b[0m\u001b[0m\n\u001b[1;32m   1179\u001b[0m         )\n\u001b[0;32m-> 1180\u001b[0;31m         \u001b[0mcsv_formatter\u001b[0m\u001b[0;34m.\u001b[0m\u001b[0msave\u001b[0m\u001b[0;34m(\u001b[0m\u001b[0;34m)\u001b[0m\u001b[0;34m\u001b[0m\u001b[0;34m\u001b[0m\u001b[0m\n\u001b[0m\u001b[1;32m   1181\u001b[0m \u001b[0;34m\u001b[0m\u001b[0m\n\u001b[1;32m   1182\u001b[0m         \u001b[0;32mif\u001b[0m \u001b[0mcreated_buffer\u001b[0m\u001b[0;34m:\u001b[0m\u001b[0;34m\u001b[0m\u001b[0;34m\u001b[0m\u001b[0m\n",
      "\u001b[0;32m~/opt/anaconda3/lib/python3.9/site-packages/pandas/io/formats/csvs.py\u001b[0m in \u001b[0;36msave\u001b[0;34m(self)\u001b[0m\n\u001b[1;32m    239\u001b[0m         \"\"\"\n\u001b[1;32m    240\u001b[0m         \u001b[0;31m# apply compression and byte/text conversion\u001b[0m\u001b[0;34m\u001b[0m\u001b[0;34m\u001b[0m\u001b[0m\n\u001b[0;32m--> 241\u001b[0;31m         with get_handle(\n\u001b[0m\u001b[1;32m    242\u001b[0m             \u001b[0mself\u001b[0m\u001b[0;34m.\u001b[0m\u001b[0mfilepath_or_buffer\u001b[0m\u001b[0;34m,\u001b[0m\u001b[0;34m\u001b[0m\u001b[0;34m\u001b[0m\u001b[0m\n\u001b[1;32m    243\u001b[0m             \u001b[0mself\u001b[0m\u001b[0;34m.\u001b[0m\u001b[0mmode\u001b[0m\u001b[0;34m,\u001b[0m\u001b[0;34m\u001b[0m\u001b[0;34m\u001b[0m\u001b[0m\n",
      "\u001b[0;32m~/opt/anaconda3/lib/python3.9/site-packages/pandas/io/common.py\u001b[0m in \u001b[0;36mget_handle\u001b[0;34m(path_or_buf, mode, encoding, compression, memory_map, is_text, errors, storage_options)\u001b[0m\n\u001b[1;32m    692\u001b[0m     \u001b[0;31m# Only for write methods\u001b[0m\u001b[0;34m\u001b[0m\u001b[0;34m\u001b[0m\u001b[0m\n\u001b[1;32m    693\u001b[0m     \u001b[0;32mif\u001b[0m \u001b[0;34m\"r\"\u001b[0m \u001b[0;32mnot\u001b[0m \u001b[0;32min\u001b[0m \u001b[0mmode\u001b[0m \u001b[0;32mand\u001b[0m \u001b[0mis_path\u001b[0m\u001b[0;34m:\u001b[0m\u001b[0;34m\u001b[0m\u001b[0;34m\u001b[0m\u001b[0m\n\u001b[0;32m--> 694\u001b[0;31m         \u001b[0mcheck_parent_directory\u001b[0m\u001b[0;34m(\u001b[0m\u001b[0mstr\u001b[0m\u001b[0;34m(\u001b[0m\u001b[0mhandle\u001b[0m\u001b[0;34m)\u001b[0m\u001b[0;34m)\u001b[0m\u001b[0;34m\u001b[0m\u001b[0;34m\u001b[0m\u001b[0m\n\u001b[0m\u001b[1;32m    695\u001b[0m \u001b[0;34m\u001b[0m\u001b[0m\n\u001b[1;32m    696\u001b[0m     \u001b[0;32mif\u001b[0m \u001b[0mcompression\u001b[0m\u001b[0;34m:\u001b[0m\u001b[0;34m\u001b[0m\u001b[0;34m\u001b[0m\u001b[0m\n",
      "\u001b[0;32m~/opt/anaconda3/lib/python3.9/site-packages/pandas/io/common.py\u001b[0m in \u001b[0;36mcheck_parent_directory\u001b[0;34m(path)\u001b[0m\n\u001b[1;32m    566\u001b[0m     \u001b[0mparent\u001b[0m \u001b[0;34m=\u001b[0m \u001b[0mPath\u001b[0m\u001b[0;34m(\u001b[0m\u001b[0mpath\u001b[0m\u001b[0;34m)\u001b[0m\u001b[0;34m.\u001b[0m\u001b[0mparent\u001b[0m\u001b[0;34m\u001b[0m\u001b[0;34m\u001b[0m\u001b[0m\n\u001b[1;32m    567\u001b[0m     \u001b[0;32mif\u001b[0m \u001b[0;32mnot\u001b[0m \u001b[0mparent\u001b[0m\u001b[0;34m.\u001b[0m\u001b[0mis_dir\u001b[0m\u001b[0;34m(\u001b[0m\u001b[0;34m)\u001b[0m\u001b[0;34m:\u001b[0m\u001b[0;34m\u001b[0m\u001b[0;34m\u001b[0m\u001b[0m\n\u001b[0;32m--> 568\u001b[0;31m         \u001b[0;32mraise\u001b[0m \u001b[0mOSError\u001b[0m\u001b[0;34m(\u001b[0m\u001b[0;34mrf\"Cannot save file into a non-existent directory: '{parent}'\"\u001b[0m\u001b[0;34m)\u001b[0m\u001b[0;34m\u001b[0m\u001b[0;34m\u001b[0m\u001b[0m\n\u001b[0m\u001b[1;32m    569\u001b[0m \u001b[0;34m\u001b[0m\u001b[0m\n\u001b[1;32m    570\u001b[0m \u001b[0;34m\u001b[0m\u001b[0m\n",
      "\u001b[0;31mOSError\u001b[0m: Cannot save file into a non-existent directory: '../Data/Raw_Data'"
     ]
    }
   ],
   "source": [
    "# Export DataFrame to csv\n",
    "batting.to_csv('../Data/Raw_Data/batting.csv', index=False)"
   ]
  },
  {
   "cell_type": "code",
   "execution_count": null,
   "id": "78472a44",
   "metadata": {},
   "outputs": [],
   "source": [
    "# Drop players with only 1 season of data \n",
    "batting = batting.groupby(\"IDfg\", group_keys=False).filter(lambda x: x.shape[0]>1)"
   ]
  },
  {
   "cell_type": "code",
   "execution_count": null,
   "id": "a1206d1a",
   "metadata": {},
   "outputs": [],
   "source": [
    "batting"
   ]
  },
  {
   "cell_type": "code",
   "execution_count": null,
   "id": "dc3a8f0f",
   "metadata": {},
   "outputs": [],
   "source": [
    "def next_season(player):\n",
    "    player = player.sort_values(\"Season\")\n",
    "    player[\"Next_BsR\"] = player[\"BsR\"].shift(-1)\n",
    "    return player\n",
    "\n",
    "batting = batting.groupby(\"IDfg\", group_keys=False).apply(next_season)"
   ]
  },
  {
   "cell_type": "code",
   "execution_count": null,
   "id": "6251aebb",
   "metadata": {},
   "outputs": [],
   "source": [
    "# Find the next BsR of each year \n",
    "bsr_df=batting[['Name','Season','BsR','Next_BsR']]\n",
    "bsr_df"
   ]
  },
  {
   "cell_type": "markdown",
   "id": "1f8edb56",
   "metadata": {},
   "source": [
    "## Cleaning Data"
   ]
  },
  {
   "cell_type": "code",
   "execution_count": null,
   "id": "c00413ae",
   "metadata": {},
   "outputs": [],
   "source": [
    "null_data=batting.isnull().sum()\n",
    "null_data"
   ]
  },
  {
   "cell_type": "code",
   "execution_count": null,
   "id": "c47c9087",
   "metadata": {},
   "outputs": [],
   "source": [
    "complete_cols=list(batting.columns[null_data == 0])\n",
    "batting = batting[complete_cols + [\"Next_BsR\"]].copy()"
   ]
  },
  {
   "cell_type": "code",
   "execution_count": null,
   "id": "d46801dd",
   "metadata": {},
   "outputs": [],
   "source": [
    "# Clean DataFrame\n",
    "batting"
   ]
  },
  {
   "cell_type": "code",
   "execution_count": null,
   "id": "74688d55",
   "metadata": {},
   "outputs": [],
   "source": [
    "batting.dtypes"
   ]
  },
  {
   "cell_type": "markdown",
   "id": "c57a891b",
   "metadata": {},
   "source": [
    "### Dummifying all of the categorical variables "
   ]
  },
  {
   "cell_type": "code",
   "execution_count": null,
   "id": "8ee330cb",
   "metadata": {},
   "outputs": [],
   "source": [
    "batting.dtypes[batting.dtypes == 'object']"
   ]
  },
  {
   "cell_type": "code",
   "execution_count": null,
   "id": "0e5c1fd7",
   "metadata": {},
   "outputs": [],
   "source": [
    "# Drop 'Dol' (Dollar value of player) and 'Age Rng' (Player's age range during a season) \n",
    "batting = batting.drop(['Dol','Age Rng'], axis = 1, inplace = False)"
   ]
  },
  {
   "cell_type": "code",
   "execution_count": null,
   "id": "c4123526",
   "metadata": {},
   "outputs": [],
   "source": [
    "# Assign each team name to number \n",
    "batting[\"team_code\"] = batting[\"Team\"].astype(\"category\").cat.codes"
   ]
  },
  {
   "cell_type": "code",
   "execution_count": null,
   "id": "8729b142",
   "metadata": {},
   "outputs": [],
   "source": [
    "# Copy batting data \n",
    "batting_full = batting.copy()\n",
    "\n",
    "# Drop Nan Values from 'Next_Raw'\n",
    "batting = batting.dropna().copy()"
   ]
  },
  {
   "cell_type": "code",
   "execution_count": null,
   "id": "12281f03",
   "metadata": {},
   "outputs": [],
   "source": [
    "batting"
   ]
  },
  {
   "cell_type": "markdown",
   "id": "65b5be8b",
   "metadata": {},
   "source": [
    "## Machine Learning Model to predict next BsR for batters"
   ]
  },
  {
   "cell_type": "code",
   "execution_count": null,
   "id": "e5f509d1",
   "metadata": {},
   "outputs": [],
   "source": [
    "from sklearn.linear_model import Ridge\n",
    "from sklearn.feature_selection import SequentialFeatureSelector\n",
    "from sklearn.model_selection import TimeSeriesSplit\n",
    "\n",
    "rr = Ridge(alpha=1)\n",
    "\n",
    "split = TimeSeriesSplit(n_splits=3)\n",
    "\n",
    "sfs = SequentialFeatureSelector(rr, \n",
    "                                n_features_to_select=20, \n",
    "                                direction=\"forward\",\n",
    "                                cv=split,\n",
    "                                n_jobs=8\n",
    "                               )"
   ]
  },
  {
   "cell_type": "code",
   "execution_count": null,
   "id": "f8f3b721",
   "metadata": {},
   "outputs": [],
   "source": [
    "# Remove some columns \n",
    "removed_columns = [\"Next_BsR\", \"Name\", \"Team\", \"IDfg\", \"Season\"]\n",
    "selected_columns = batting.columns[~batting.columns.isin(removed_columns)]"
   ]
  },
  {
   "cell_type": "code",
   "execution_count": null,
   "id": "72e2f1cf",
   "metadata": {},
   "outputs": [],
   "source": [
    "# Scale the data \n",
    "from sklearn.preprocessing import MinMaxScaler\n",
    "\n",
    "scaler = MinMaxScaler()\n",
    "batting.loc[:,selected_columns] = scaler.fit_transform(batting[selected_columns])"
   ]
  },
  {
   "cell_type": "code",
   "execution_count": null,
   "id": "9d123e45",
   "metadata": {},
   "outputs": [],
   "source": [
    "# Most values are now between 0 and 1\n",
    "batting.describe()"
   ]
  },
  {
   "cell_type": "code",
   "execution_count": null,
   "id": "5c72831c",
   "metadata": {},
   "outputs": [],
   "source": [
    "# Fit the data \n",
    "sfs.fit(batting[selected_columns], batting[\"Next_BsR\"])"
   ]
  },
  {
   "cell_type": "code",
   "execution_count": null,
   "id": "22352d78",
   "metadata": {},
   "outputs": [],
   "source": [
    "# sfs.get_support() returns True to each column we want to select\n",
    "sfs.get_support()"
   ]
  },
  {
   "cell_type": "code",
   "execution_count": null,
   "id": "c739c218",
   "metadata": {},
   "outputs": [],
   "source": [
    "# Assign sfs to a variable called predictors\n",
    "predictors = list(selected_columns[sfs.get_support()])\n",
    "predictors"
   ]
  },
  {
   "cell_type": "code",
   "execution_count": null,
   "id": "9770f3e9",
   "metadata": {},
   "outputs": [],
   "source": [
    "# All the seasons'years \n",
    "years = sorted(batting[\"Season\"].unique())\n",
    "years"
   ]
  },
  {
   "cell_type": "code",
   "execution_count": null,
   "id": "8273c84e",
   "metadata": {},
   "outputs": [],
   "source": [
    "def backtest(data, model, predictors, start=5, step=1):\n",
    "    all_predictions = []\n",
    "    \n",
    "    years = sorted(data[\"Season\"].unique())\n",
    "    \n",
    "    for i in range(start, len(years), step):\n",
    "        current_year = years[i]\n",
    "        \n",
    "        # Train data is all years before current_year\n",
    "        train = data[data[\"Season\"] < current_year]\n",
    "        \n",
    "        # Test data is the current_year\n",
    "        test = data[data[\"Season\"] == current_year]\n",
    "        \n",
    "        model.fit(train[predictors], train[\"Next_BsR\"])\n",
    "        \n",
    "        preds = model.predict(test[predictors])\n",
    "        preds = pd.Series(preds, index=test.index)\n",
    "        combined = pd.concat([test[\"Next_BsR\"], preds], axis=1)\n",
    "        combined.columns = [\"actual\", \"prediction\"]\n",
    "        \n",
    "        all_predictions.append(combined)\n",
    "    return pd.concat(all_predictions)"
   ]
  },
  {
   "cell_type": "code",
   "execution_count": null,
   "id": "daddc13d",
   "metadata": {},
   "outputs": [],
   "source": [
    "model_pred=backtest(batting, rr, predictors)\n",
    "model_pred"
   ]
  },
  {
   "cell_type": "code",
   "execution_count": null,
   "id": "647d65a7",
   "metadata": {},
   "outputs": [],
   "source": [
    "# Calculate the mean squared error value (To compare the prediction from actual value)\n",
    "from sklearn.metrics import mean_squared_error\n",
    "\n",
    "mean_squared_error(model_pred[\"actual\"], model_pred[\"prediction\"])"
   ]
  },
  {
   "cell_type": "code",
   "execution_count": null,
   "id": "8f64c37a",
   "metadata": {},
   "outputs": [],
   "source": [
    "# Square root of mean_squared_error\n",
    "5.9255496118791635 ** 0.5"
   ]
  },
  {
   "cell_type": "code",
   "execution_count": null,
   "id": "9228b7aa",
   "metadata": {},
   "outputs": [],
   "source": [
    "batting['Next_BsR'].describe()"
   ]
  },
  {
   "cell_type": "markdown",
   "id": "706e3fca",
   "metadata": {},
   "source": [
    "std = 3.30\n",
    "\n",
    "Square root of mean_squared_error = 2.4342451831890646 < std \n",
    "Which is good for the model\n",
    "\n",
    "### Add player history data to improve accuracy"
   ]
  },
  {
   "cell_type": "code",
   "execution_count": null,
   "id": "f518558c",
   "metadata": {},
   "outputs": [],
   "source": [
    "def player_history(df):\n",
    "    df = df.sort_values(\"Season\")\n",
    "        \n",
    "    df[\"player_season\"] = range(0, df.shape[0])\n",
    "    # Find the corr between \"player_season\" and \"WAR\"\n",
    "    df[\"BsR_corr\"] = list(df[[\"player_season\", \"BsR\"]].expanding().corr().loc[(slice(None), \"player_season\"),\"BsR\"])\n",
    "    df[\"BsR_corr\"].fillna(0, inplace=True)\n",
    "    \n",
    "    df[\"BsR_diff\"] = df[\"BsR\"] / df[\"BsR\"].shift(1)\n",
    "    # Replace NaN values with 1 when there's no previous season \n",
    "    df[\"BsR_diff\"].fillna(1, inplace=True)\n",
    "    # Replace infinite value with 1\n",
    "    df[\"BsR_diff\"][df[\"BsR_diff\"] == np.inf] = 1\n",
    "    \n",
    "    return df\n",
    "\n",
    "batting = batting.groupby(\"IDfg\", group_keys=False).apply(player_history)\n"
   ]
  },
  {
   "cell_type": "code",
   "execution_count": null,
   "id": "e73b7f71",
   "metadata": {},
   "outputs": [],
   "source": [
    "# Find averages across seasos; tell us if a player performed better than the average of a season or no \n",
    "def group_averages(df):\n",
    "    return df[\"BsR\"] / df[\"BsR\"].mean()"
   ]
  },
  {
   "cell_type": "code",
   "execution_count": null,
   "id": "1375d436",
   "metadata": {},
   "outputs": [],
   "source": [
    "batting[\"BsR_season\"] = batting.groupby(\"Season\", group_keys=False).apply(group_averages)"
   ]
  },
  {
   "cell_type": "code",
   "execution_count": null,
   "id": "017208d3",
   "metadata": {},
   "outputs": [],
   "source": [
    "new_predictors = predictors + [\"player_season\", \"BsR_corr\", \"BsR_season\", \"BsR_diff\"]"
   ]
  },
  {
   "cell_type": "code",
   "execution_count": null,
   "id": "c1610987",
   "metadata": {},
   "outputs": [],
   "source": [
    "predictions = backtest(batting, rr, new_predictors)"
   ]
  },
  {
   "cell_type": "code",
   "execution_count": null,
   "id": "f30466b1",
   "metadata": {},
   "outputs": [],
   "source": [
    "# Calculate the mean squared error value (To compare the prediction from actual value)\n",
    "mean_squared_error(predictions[\"actual\"], predictions[\"prediction\"]) "
   ]
  },
  {
   "cell_type": "markdown",
   "id": "be0d5fbc",
   "metadata": {},
   "source": [
    "Value slighly less than before"
   ]
  },
  {
   "cell_type": "code",
   "execution_count": null,
   "id": "e12df551",
   "metadata": {},
   "outputs": [],
   "source": [
    "pd.Series(rr.coef_, index=new_predictors).sort_values()"
   ]
  },
  {
   "cell_type": "markdown",
   "id": "e7638cff",
   "metadata": {},
   "source": [
    "All small values indicated that the model is not taking these columns into account to make the prediction."
   ]
  },
  {
   "cell_type": "code",
   "execution_count": null,
   "id": "6532962f",
   "metadata": {},
   "outputs": [],
   "source": [
    "merged = predictions.merge(batting, left_index=True, right_index=True)\n",
    "merged[\"diff\"] = (predictions[\"actual\"] - predictions[\"prediction\"]).abs()\n",
    "next_BsR_df=merged[[\"IDfg\", \"Season\", \"Name\", \"BsR\", \"Next_BsR\", \"diff\"]].sort_values([\"diff\"])\n",
    "next_BsR_df.head()"
   ]
  },
  {
   "cell_type": "code",
   "execution_count": null,
   "id": "9a9c5d21",
   "metadata": {},
   "outputs": [],
   "source": [
    "import json\n",
    "next_BsR_batt_js=next_BsR_df.to_json(orient = \"records\")\n",
    "next_BsR_batt_js"
   ]
  },
  {
   "cell_type": "code",
   "execution_count": null,
   "id": "c33f58b7",
   "metadata": {},
   "outputs": [],
   "source": [
    "# Save JSON file in clean data file\n",
    "save_file=open('../Data/Clean_Data/next_BsR_batt.js','w')\n",
    "json.dump(next_BsR_batt_js, save_file, indent = 6)  \n",
    "save_file.close() "
   ]
  },
  {
   "cell_type": "code",
   "execution_count": null,
   "id": "fa6a3416",
   "metadata": {},
   "outputs": [],
   "source": []
  },
  {
   "cell_type": "code",
   "execution_count": null,
   "id": "5faadfe1",
   "metadata": {},
   "outputs": [],
   "source": []
  }
 ],
 "metadata": {
  "kernelspec": {
   "display_name": "mlenv",
   "language": "python",
   "name": "mlenv"
  },
  "language_info": {
   "codemirror_mode": {
    "name": "ipython",
    "version": 3
   },
   "file_extension": ".py",
   "mimetype": "text/x-python",
   "name": "python",
   "nbconvert_exporter": "python",
   "pygments_lexer": "ipython3",
   "version": "3.9.12"
  }
 },
 "nbformat": 4,
 "nbformat_minor": 5
}
